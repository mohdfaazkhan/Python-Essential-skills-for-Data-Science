{
 "cells": [
  {
   "cell_type": "markdown",
   "id": "9f52e540",
   "metadata": {},
   "source": [
    "## Defining our first Class in python"
   ]
  },
  {
   "cell_type": "code",
   "execution_count": 1,
   "id": "394662f6",
   "metadata": {},
   "outputs": [
    {
     "name": "stdout",
     "output_type": "stream",
     "text": [
      "4\n",
      "Square\n",
      "5\n",
      "Pentagon\n"
     ]
    }
   ],
   "source": [
    "class Polygon:\n",
    "    def __init__(self,sides,name):\n",
    "        self.sides= sides\n",
    "        self.shapes = name\n",
    "                \n",
    "square = Polygon(4, \"Square\")\n",
    "pentagon = Polygon(5, \"Pentagon\")\n",
    "\n",
    "print(square.sides)\n",
    "print(square.shapes)\n",
    "\n",
    "print(pentagon.sides)\n",
    "print(pentagon.shapes)"
   ]
  },
  {
   "cell_type": "code",
   "execution_count": 2,
   "id": "cd227cd5",
   "metadata": {},
   "outputs": [],
   "source": [
    "#pip install mobilechelonian"
   ]
  },
  {
   "cell_type": "code",
   "execution_count": 3,
   "id": "debddb92",
   "metadata": {},
   "outputs": [],
   "source": [
    "from mobilechelonian import Turtle"
   ]
  },
  {
   "cell_type": "code",
   "execution_count": 4,
   "id": "fa1e37cf",
   "metadata": {},
   "outputs": [],
   "source": [
    "#import turtle"
   ]
  },
  {
   "cell_type": "markdown",
   "id": "191d74c8",
   "metadata": {},
   "source": [
    "## Defining a Class Method"
   ]
  },
  {
   "cell_type": "code",
   "execution_count": 5,
   "id": "8f0ce919",
   "metadata": {},
   "outputs": [
    {
     "data": {
      "application/vnd.jupyter.widget-view+json": {
       "model_id": "6e8746694676440fb5a589d6356eb68c",
       "version_major": 2,
       "version_minor": 0
      },
      "text/plain": [
       "Turtle()"
      ]
     },
     "metadata": {},
     "output_type": "display_data"
    },
    {
     "name": "stdout",
     "output_type": "stream",
     "text": [
      "4\n"
     ]
    }
   ],
   "source": [
    "turtle = Turtle()\n",
    "#Turtle()\n",
    "class Polygon:\n",
    "    def __init__(self,sides,name):\n",
    "        self.sides= sides\n",
    "        self.shapes = name\n",
    "        \n",
    "        \n",
    "    def draw(self):\n",
    "        for i in range(self.sides):# Class Method, Generally we don't have to pass(self) in Method, but when deal with Class Method ,must have to pass(self)#   \n",
    "            turtle.forward(100)\n",
    "            turtle.right(90)\n",
    "        #turtle.don()\n",
    "\n",
    "\n",
    "square = Polygon(4, \"Square\")\n",
    "pentagon = Polygon(5, \"Pentagon\")\n",
    "\n",
    "\n",
    "print(square.sides)\n",
    "# print(square.shapes)\n",
    "\n",
    "# print(pentagon.sides)\n",
    "# print(pentagon.shapes)\n",
    "\n",
    "square.draw()\n"
   ]
  },
  {
   "cell_type": "code",
   "execution_count": 6,
   "id": "6135cd11",
   "metadata": {},
   "outputs": [
    {
     "data": {
      "application/vnd.jupyter.widget-view+json": {
       "model_id": "e022d12b829d42568509d750fb842575",
       "version_major": 2,
       "version_minor": 0
      },
      "text/plain": [
       "Turtle()"
      ]
     },
     "metadata": {},
     "output_type": "display_data"
    },
    {
     "name": "stdout",
     "output_type": "stream",
     "text": [
      "5\n"
     ]
    }
   ],
   "source": [
    "turtle = Turtle()\n",
    "#Turtle()\n",
    "class Polygon:\n",
    "    def __init__(self,sides,name):\n",
    "        self.sides= sides\n",
    "        self.shapes = name\n",
    "        \n",
    "        self.interior_angle = (self.sides-2)*180\n",
    "        self.angle =   self.interior_angle/self.sides\n",
    "        \n",
    "    def draw(self):\n",
    "        for i in range(self.sides):# Class Method, Generally we don't have to pass(self) in Method, but when deal with Class Method ,must have to pass(self)#   \n",
    "            turtle.forward(100)\n",
    "            turtle.right(180-self.angle)\n",
    "        #turtle.don()\n",
    "\n",
    "\n",
    "square = Polygon(4, \"Square\")\n",
    "pentagon = Polygon(5, \"Pentagon\")\n",
    "\n",
    "\n",
    "#print(square.sides)\n",
    "# print(square.shapes)\n",
    "\n",
    "print(pentagon.sides)\n",
    "# print(pentagon.shapes)\n",
    "pentagon.draw()\n"
   ]
  },
  {
   "cell_type": "code",
   "execution_count": 7,
   "id": "ebb0047f",
   "metadata": {},
   "outputs": [
    {
     "data": {
      "application/vnd.jupyter.widget-view+json": {
       "model_id": "a2cdacccc3c54bc1a678b90304cb2fd3",
       "version_major": 2,
       "version_minor": 0
      },
      "text/plain": [
       "Turtle()"
      ]
     },
     "metadata": {},
     "output_type": "display_data"
    },
    {
     "name": "stdout",
     "output_type": "stream",
     "text": [
      "6\n"
     ]
    }
   ],
   "source": [
    "turtle = Turtle()\n",
    "#Turtle()\n",
    "class Polygon:\n",
    "    def __init__(self,sides,name):\n",
    "        self.sides= sides\n",
    "        self.shapes = name\n",
    "        \n",
    "        self.interior_angle = (self.sides-2)*180\n",
    "        self.angle =   self.interior_angle/self.sides\n",
    "        \n",
    "    def draw(self):\n",
    "        for i in range(self.sides):# Class Method, Generally we don't have to pass(self) in Method, but when deal with Class Method ,must have to pass(self)#   \n",
    "            turtle.forward(100)\n",
    "            turtle.right(180-self.angle)\n",
    "        #turtle.don()\n",
    "\n",
    "\n",
    "square = Polygon(4, \"Square\")\n",
    "pentagon = Polygon(5, \"Pentagon\")\n",
    "\n",
    "hexagon = Polygon(6,\"Hexagon\")\n",
    "\n",
    "\n",
    "#print(square.sides)\n",
    "# print(square.shapes)\n",
    "\n",
    "print(hexagon.sides)\n",
    "# print(pentagon.shapes)\n",
    "#pentagon.draw()\n",
    "hexagon.draw()"
   ]
  },
  {
   "cell_type": "code",
   "execution_count": null,
   "id": "17485109",
   "metadata": {},
   "outputs": [],
   "source": []
  },
  {
   "cell_type": "markdown",
   "id": "e3bbcdb3",
   "metadata": {},
   "source": [
    "## Passing in default keyword arguments (Here size of our polygons)"
   ]
  },
  {
   "cell_type": "code",
   "execution_count": 8,
   "id": "9868ae4c",
   "metadata": {},
   "outputs": [
    {
     "name": "stdout",
     "output_type": "stream",
     "text": [
      "4\n",
      "square\n",
      "100\n"
     ]
    }
   ],
   "source": [
    "class Polygon:\n",
    "    def __init__(self,sides=4,name= 'square',size= 100):\n",
    "        self.sides= sides\n",
    "        self.shapes = name\n",
    "        self.size = size        \n",
    "square = Polygon()\n",
    "#pentagon = Polygon(5, \"Pentagon\", size)\n",
    "\n",
    "print(square.sides)\n",
    "print(square.shapes)\n",
    "print(square.size)\n",
    "\n",
    "# print(pentagon.sides)\n",
    "# print(pentagon.shapes)\n",
    "# print(pentagon.size)"
   ]
  },
  {
   "cell_type": "code",
   "execution_count": 9,
   "id": "6f2faf08",
   "metadata": {},
   "outputs": [
    {
     "data": {
      "application/vnd.jupyter.widget-view+json": {
       "model_id": "d399cf097f0d4db9af2a6344e70176b2",
       "version_major": 2,
       "version_minor": 0
      },
      "text/plain": [
       "Turtle()"
      ]
     },
     "metadata": {},
     "output_type": "display_data"
    }
   ],
   "source": [
    "turtle = Turtle()\n",
    "#Turtle()\n",
    "class Polygon:\n",
    "    def __init__(self,sides,name):\n",
    "        self.sides= sides\n",
    "        self.shapes = name\n",
    "        \n",
    "        \n",
    "    def draw(self):\n",
    "        for i in range(self.sides):# Class Method, Generally we don't have to pass(self) in Method, but when deal with Class Method ,must have to pass(self)#   \n",
    "            turtle.forward(100)\n",
    "            turtle.right()\n",
    "        #turtle.don()\n",
    "        \n",
    "def function_draw(sides, name,size, angle):\n",
    "    for i in range(sides):# Class Method, Generally we don't have to pass(self) in Method, but when deal with Class Method ,must have to pass(self)#   \n",
    "            turtle.forward(size)\n",
    "            turtle.right(angle)\n",
    "    \n",
    "\n",
    "\n",
    "\n",
    "square = Polygon(4, \"Square\")\n",
    "\n",
    "\n",
    "\n",
    "#print(square.sides)\n",
    "# print(square.shapes)\n",
    "\n",
    "# print(pentagon.sides)\n",
    "# print(pentagon.shapes)\n",
    "\n",
    "function_draw(7,\"square\",70,100)\n"
   ]
  },
  {
   "cell_type": "markdown",
   "id": "ee2cf015",
   "metadata": {},
   "source": [
    "## Inheritance and subclassing"
   ]
  },
  {
   "cell_type": "code",
   "execution_count": 10,
   "id": "30db9245",
   "metadata": {},
   "outputs": [
    {
     "name": "stdout",
     "output_type": "stream",
     "text": [
      "5\n",
      "kkk\n",
      "10\n",
      "black\n"
     ]
    }
   ],
   "source": [
    "#turtle = Turtle()\n",
    "#Turtle()\n",
    "class Polygon:\n",
    "    def __init__(self,sides,name,size=100,color = \"black\"):\n",
    "        self.sides= sides\n",
    "        self.name = name\n",
    "        self.size = size\n",
    "        self.color = color\n",
    "        \n",
    "class Square(Polygon):\n",
    "    def __init__(self,size=10,color =\"black\"):\n",
    "        super().__init__(5,\"kkk\",size,color)\n",
    "        \n",
    "square= Square()\n",
    "\n",
    "\n",
    "print(square.sides)\n",
    "print(square.name)\n",
    "print(square.size)\n",
    "print(square.color)\n"
   ]
  },
  {
   "cell_type": "markdown",
   "id": "1c13d494",
   "metadata": {},
   "source": [
    "## Ploting points with classes"
   ]
  },
  {
   "cell_type": "code",
   "execution_count": 11,
   "id": "d1ef8815",
   "metadata": {},
   "outputs": [
    {
     "name": "stdout",
     "output_type": "stream",
     "text": [
      "4\n"
     ]
    }
   ],
   "source": [
    "class Point:\n",
    "    def __init__(self,x,y):\n",
    "        self.x = x\n",
    "        self.y = y\n",
    "point1 = Point(4,5)\n",
    "print(point1.x)\n",
    "    "
   ]
  },
  {
   "cell_type": "code",
   "execution_count": 12,
   "id": "8388e2b2",
   "metadata": {},
   "outputs": [
    {
     "data": {
      "image/png": "[encoded data removed]",
      "text/plain": [
       "<Figure size 432x288 with 1 Axes>"
      ]
     },
     "metadata": {
      "needs_background": "light"
     },
     "output_type": "display_data"
    }
   ],
   "source": [
    "import matplotlib.pyplot as plt\n",
    "\n",
    "class Point:\n",
    "    def __init__(self,x,y):\n",
    "        self.x = x\n",
    "        self.y = y\n",
    "        \n",
    "    def plot(self):\n",
    "        plt.scatter(self.x,self.y)\n",
    "        \n",
    "\n",
    "a=Point(3,4)\n",
    "a.plot()\n",
    "\n",
    "plt.show()\n"
   ]
  },
  {
   "cell_type": "markdown",
   "id": "67f1da78",
   "metadata": {},
   "source": [
    "## Operater overloading"
   ]
  },
  {
   "cell_type": "code",
   "execution_count": 13,
   "id": "a8a99f0d",
   "metadata": {},
   "outputs": [
    {
     "name": "stdout",
     "output_type": "stream",
     "text": [
      "3 6\n"
     ]
    }
   ],
   "source": [
    "import matplotlib.pyplot as plt\n",
    "\n",
    "class Point:\n",
    "    def __init__(self,x,y):\n",
    "        self.x = x\n",
    "        self.y = y\n",
    "    \n",
    "    def __add__(self,other):\n",
    "        x = self.x + other.x\n",
    "        y = self.y + other.y\n",
    "        return Point(x,y)\n",
    "        \n",
    "    def plot(self):\n",
    "        plt.scatter(self.x,self.y)\n",
    "        \n",
    "        \n",
    "\n",
    "a=Point(1,5)\n",
    "b=Point(2,1)\n",
    "c= a+b\n",
    "\n",
    "print(c.x,c.y)\n"
   ]
  },
  {
   "cell_type": "code",
   "execution_count": null,
   "id": "6ccd6cb2",
   "metadata": {},
   "outputs": [],
   "source": []
  },
  {
   "cell_type": "code",
   "execution_count": 14,
   "id": "caba04dd",
   "metadata": {},
   "outputs": [
    {
     "name": "stdout",
     "output_type": "stream",
     "text": [
      "Mike Olsen\n"
     ]
    }
   ],
   "source": [
    "class Person:\n",
    "  def __init__(self, fname, lname):\n",
    "    self.firstname = fname\n",
    "    self.lastname = lname\n",
    "\n",
    "  def printname(self):\n",
    "    print(self.firstname, self.lastname)\n",
    "\n",
    "class Student(Person):\n",
    "  pass\n",
    "\n",
    "x = Student(\"Mike\", \"Olsen\")\n",
    "x.printname()\n"
   ]
  },
  {
   "cell_type": "code",
   "execution_count": 15,
   "id": "9ce2dfc2",
   "metadata": {},
   "outputs": [
    {
     "name": "stdout",
     "output_type": "stream",
     "text": [
      "Mike Olsen\n"
     ]
    }
   ],
   "source": [
    "class Person:\n",
    "  def __init__(self, fname, lname):\n",
    "    self.firstname = fname\n",
    "    self.lastname = lname\n",
    "\n",
    "  def printname(self):\n",
    "    print(self.firstname, self.lastname)\n",
    "\n",
    "class Student(Person):\n",
    "  def __init__(self, fname, lname):\n",
    "    Person.__init__(self, fname, lname)\n",
    "\n",
    "x = Student(\"Mike\", \"Olsen\")\n",
    "x.printname()\n"
   ]
  },
  {
   "cell_type": "code",
   "execution_count": null,
   "id": "4313c38b",
   "metadata": {},
   "outputs": [],
   "source": []
  },
  {
   "cell_type": "code",
   "execution_count": null,
   "id": "f5b9fc25",
   "metadata": {},
   "outputs": [],
   "source": []
  },
  {
   "cell_type": "code",
   "execution_count": null,
   "id": "091ddfad",
   "metadata": {},
   "outputs": [],
   "source": []
  },
  {
   "cell_type": "code",
   "execution_count": null,
   "id": "7b9f139f",
   "metadata": {},
   "outputs": [],
   "source": []
  },
  {
   "cell_type": "code",
   "execution_count": null,
   "id": "bbf8578c",
   "metadata": {},
   "outputs": [],
   "source": []
  }
 ],
 "metadata": {
  "kernelspec": {
   "display_name": "Python 3 (ipykernel)",
   "language": "python",
   "name": "python3"
  },
  "language_info": {
   "codemirror_mode": {
    "name": "ipython",
    "version": 3
   },
   "file_extension": ".py",
   "mimetype": "text/x-python",
   "name": "python",
   "nbconvert_exporter": "python",
   "pygments_lexer": "ipython3",
   "version": "3.9.7"
  }
 },
 "nbformat": 4,
 "nbformat_minor": 5
}
