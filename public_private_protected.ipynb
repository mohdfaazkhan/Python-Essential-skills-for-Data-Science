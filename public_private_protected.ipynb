{
  "nbformat": 4,
  "nbformat_minor": 0,
  "metadata": {
    "colab": {
      "provenance": [],
      "authorship_tag": "ABX9TyNFIBhrV0WpwPq8YNj5LYQe",
      "include_colab_link": true
    },
    "kernelspec": {
      "name": "python3",
      "display_name": "Python 3"
    },
    "language_info": {
      "name": "python"
    }
  },
  "cells": [
    {
      "cell_type": "markdown",
      "metadata": {
        "id": "view-in-github",
        "colab_type": "text"
      },
      "source": [
        "<a href=\"https://colab.research.google.com/github/mohdfaazkhan/Python-Essential-skills-for-Data-Science/blob/main/public_private_protected.ipynb\" target=\"_parent\"><img src=\"https://colab.research.google.com/assets/colab-badge.svg\" alt=\"Open In Colab\"/></a>"
      ]
    },
    {
      "cell_type": "code",
      "execution_count": null,
      "metadata": {
        "id": "AwR2OxZY73Mw"
      },
      "outputs": [],
      "source": [
        "### All the class variables are public\n",
        "\n",
        "class Car():\n",
        "  def __init__(self,doors, colour, enginetype):\n",
        "    self.doors = doors\n",
        "    self.colour = colour\n",
        "    self.enginetype = enginetype\n"
      ]
    },
    {
      "cell_type": "code",
      "source": [
        "audi = Car(4, \"black\", \"petrol\")"
      ],
      "metadata": {
        "id": "1D3HafTTAcqu"
      },
      "execution_count": null,
      "outputs": []
    },
    {
      "cell_type": "code",
      "source": [
        "audi"
      ],
      "metadata": {
        "colab": {
          "base_uri": "https://localhost:8080/"
        },
        "id": "bixV70HzFG8f",
        "outputId": "76e38f2e-55ca-4376-9dd9-72e55217c8c1"
      },
      "execution_count": null,
      "outputs": [
        {
          "output_type": "execute_result",
          "data": {
            "text/plain": [
              "<__main__.Car at 0x7f0cec4e32d0>"
            ]
          },
          "metadata": {},
          "execution_count": 58
        }
      ]
    },
    {
      "cell_type": "code",
      "source": [
        "dir(audi)"
      ],
      "metadata": {
        "colab": {
          "base_uri": "https://localhost:8080/"
        },
        "id": "y1UZKRfOBW0U",
        "outputId": "d5970d04-9f9c-4275-ddba-663591855d40"
      },
      "execution_count": null,
      "outputs": [
        {
          "output_type": "execute_result",
          "data": {
            "text/plain": [
              "['__class__',\n",
              " '__delattr__',\n",
              " '__dict__',\n",
              " '__dir__',\n",
              " '__doc__',\n",
              " '__eq__',\n",
              " '__format__',\n",
              " '__ge__',\n",
              " '__getattribute__',\n",
              " '__gt__',\n",
              " '__hash__',\n",
              " '__init__',\n",
              " '__init_subclass__',\n",
              " '__le__',\n",
              " '__lt__',\n",
              " '__module__',\n",
              " '__ne__',\n",
              " '__new__',\n",
              " '__reduce__',\n",
              " '__reduce_ex__',\n",
              " '__repr__',\n",
              " '__setattr__',\n",
              " '__sizeof__',\n",
              " '__str__',\n",
              " '__subclasshook__',\n",
              " '__weakref__',\n",
              " 'colour',\n",
              " 'doors',\n",
              " 'enginetype']"
            ]
          },
          "metadata": {},
          "execution_count": 59
        }
      ]
    },
    {
      "cell_type": "code",
      "source": [
        "audi.colour"
      ],
      "metadata": {
        "colab": {
          "base_uri": "https://localhost:8080/",
          "height": 35
        },
        "id": "sa4obI4nA3ve",
        "outputId": "f45d9c5a-1aa4-4701-8d22-f99b1c523988"
      },
      "execution_count": null,
      "outputs": [
        {
          "output_type": "execute_result",
          "data": {
            "text/plain": [
              "'black'"
            ],
            "application/vnd.google.colaboratory.intrinsic+json": {
              "type": "string"
            }
          },
          "metadata": {},
          "execution_count": 60
        }
      ]
    },
    {
      "cell_type": "code",
      "source": [
        "audi.enginetype"
      ],
      "metadata": {
        "colab": {
          "base_uri": "https://localhost:8080/",
          "height": 35
        },
        "id": "nvGjMyjcIYZ2",
        "outputId": "3b8d95fd-802e-474f-e9e3-1e54eefbdb75"
      },
      "execution_count": null,
      "outputs": [
        {
          "output_type": "execute_result",
          "data": {
            "text/plain": [
              "'petrol'"
            ],
            "application/vnd.google.colaboratory.intrinsic+json": {
              "type": "string"
            }
          },
          "metadata": {},
          "execution_count": 61
        }
      ]
    },
    {
      "cell_type": "code",
      "source": [
        "### All the class variables are protected\n",
        "class Car():\n",
        "    def __init__(self,windows,doors,enginetype):\n",
        "        self._windows=windows\n",
        "        self._doors=doors\n",
        "        self._enginetype=enginetype\n"
      ],
      "metadata": {
        "id": "vwx7BkV_BFt4"
      },
      "execution_count": null,
      "outputs": []
    },
    {
      "cell_type": "code",
      "source": [
        "class Truck(Car):\n",
        "    def __init__(self,windows,doors,enginetype,horsepower):\n",
        "        super().__init__(windows,doors,enginetype)\n",
        "        self.horsepowwer=horsepower"
      ],
      "metadata": {
        "id": "AeHs11KtGEjI"
      },
      "execution_count": null,
      "outputs": []
    },
    {
      "cell_type": "code",
      "source": [
        "truck=Truck(4,4,\"Diesel\",4000)\n",
        "dir(truck)"
      ],
      "metadata": {
        "colab": {
          "base_uri": "https://localhost:8080/"
        },
        "id": "5ykIkrwqGRac",
        "outputId": "e1b565f2-afbb-4da5-ddf5-cb2b2e296382"
      },
      "execution_count": null,
      "outputs": [
        {
          "output_type": "execute_result",
          "data": {
            "text/plain": [
              "['__class__',\n",
              " '__delattr__',\n",
              " '__dict__',\n",
              " '__dir__',\n",
              " '__doc__',\n",
              " '__eq__',\n",
              " '__format__',\n",
              " '__ge__',\n",
              " '__getattribute__',\n",
              " '__gt__',\n",
              " '__hash__',\n",
              " '__init__',\n",
              " '__init_subclass__',\n",
              " '__le__',\n",
              " '__lt__',\n",
              " '__module__',\n",
              " '__ne__',\n",
              " '__new__',\n",
              " '__reduce__',\n",
              " '__reduce_ex__',\n",
              " '__repr__',\n",
              " '__setattr__',\n",
              " '__sizeof__',\n",
              " '__str__',\n",
              " '__subclasshook__',\n",
              " '__weakref__',\n",
              " '_doors',\n",
              " '_enginetype',\n",
              " '_windows',\n",
              " 'horsepowwer']"
            ]
          },
          "metadata": {},
          "execution_count": 64
        }
      ]
    },
    {
      "cell_type": "code",
      "source": [
        "truck._doors=5"
      ],
      "metadata": {
        "id": "fsdCNKQyGbgR"
      },
      "execution_count": null,
      "outputs": []
    },
    {
      "cell_type": "code",
      "source": [
        "truck._doors"
      ],
      "metadata": {
        "colab": {
          "base_uri": "https://localhost:8080/"
        },
        "id": "p6MzTPA4GhZc",
        "outputId": "d5462964-0e87-47fb-fb13-9396559bc41e"
      },
      "execution_count": null,
      "outputs": [
        {
          "output_type": "execute_result",
          "data": {
            "text/plain": [
              "5"
            ]
          },
          "metadata": {},
          "execution_count": 66
        }
      ]
    },
    {
      "cell_type": "code",
      "source": [],
      "metadata": {
        "id": "ut4UglCSF-m3"
      },
      "execution_count": null,
      "outputs": []
    },
    {
      "cell_type": "code",
      "source": [
        "### private\n",
        "class Car():\n",
        "    def __init__(self,windows,doors,enginetype):\n",
        "        self.__windows=windows\n",
        "        self.__doors=doors\n",
        "        self.__enginetype=enginetype"
      ],
      "metadata": {
        "id": "TZy8zqgyIrf6"
      },
      "execution_count": null,
      "outputs": []
    },
    {
      "cell_type": "code",
      "source": [
        "audi=Car(4,4,\"Diesel\")"
      ],
      "metadata": {
        "id": "TiF9RW-3ECq5"
      },
      "execution_count": null,
      "outputs": []
    },
    {
      "cell_type": "code",
      "source": [
        "audi"
      ],
      "metadata": {
        "colab": {
          "base_uri": "https://localhost:8080/"
        },
        "id": "2C52BlnAEJ2o",
        "outputId": "b59de427-5e5b-4e10-8711-a8012db195b0"
      },
      "execution_count": null,
      "outputs": [
        {
          "output_type": "execute_result",
          "data": {
            "text/plain": [
              "<__main__.Car at 0x7f0cec4ba8d0>"
            ]
          },
          "metadata": {},
          "execution_count": 69
        }
      ]
    },
    {
      "cell_type": "code",
      "source": [
        "audi._Car__doors=5"
      ],
      "metadata": {
        "id": "euiPLICxELGn"
      },
      "execution_count": null,
      "outputs": []
    },
    {
      "cell_type": "code",
      "source": [
        "audi._Car__doors"
      ],
      "metadata": {
        "colab": {
          "base_uri": "https://localhost:8080/"
        },
        "id": "HGaIxKQFEgmx",
        "outputId": "48af9c4a-9062-466d-b947-c18fac1f13d8"
      },
      "execution_count": null,
      "outputs": [
        {
          "output_type": "execute_result",
          "data": {
            "text/plain": [
              "5"
            ]
          },
          "metadata": {},
          "execution_count": 71
        }
      ]
    },
    {
      "cell_type": "code",
      "source": [
        "dir(audi)"
      ],
      "metadata": {
        "colab": {
          "base_uri": "https://localhost:8080/"
        },
        "id": "gYm-IaZ7EsxG",
        "outputId": "3474f8b4-5e24-4cb2-c132-64880c79f425"
      },
      "execution_count": null,
      "outputs": [
        {
          "output_type": "execute_result",
          "data": {
            "text/plain": [
              "['_Car__doors',\n",
              " '_Car__enginetype',\n",
              " '_Car__windows',\n",
              " '__class__',\n",
              " '__delattr__',\n",
              " '__dict__',\n",
              " '__dir__',\n",
              " '__doc__',\n",
              " '__eq__',\n",
              " '__format__',\n",
              " '__ge__',\n",
              " '__getattribute__',\n",
              " '__gt__',\n",
              " '__hash__',\n",
              " '__init__',\n",
              " '__init_subclass__',\n",
              " '__le__',\n",
              " '__lt__',\n",
              " '__module__',\n",
              " '__ne__',\n",
              " '__new__',\n",
              " '__reduce__',\n",
              " '__reduce_ex__',\n",
              " '__repr__',\n",
              " '__setattr__',\n",
              " '__sizeof__',\n",
              " '__str__',\n",
              " '__subclasshook__',\n",
              " '__weakref__']"
            ]
          },
          "metadata": {},
          "execution_count": 72
        }
      ]
    },
    {
      "cell_type": "code",
      "source": [],
      "metadata": {
        "id": "er_D-UtrFXlt"
      },
      "execution_count": null,
      "outputs": []
    },
    {
      "cell_type": "code",
      "source": [
        "class Movie:\n",
        "  ''' Movie class developed by Faaz Khan '''\n",
        "  def __init__(self, movie_name, actor, actress):\n",
        "    self.movie_name= movie_name\n",
        "    self.actor = actor\n",
        "    self.actress = actress\n",
        "\n",
        "  def movie_info(self):\n",
        "    print(\"The name of the movie is:\", self.movie_name)\n",
        "    print(\"The name of Actor is:\" , self.actor)\n",
        "    print(\"The name of actress is:\", self.actress)\n",
        "\n",
        "movie_list=[]\n",
        "while True:\n",
        "  movie = input('Enter the movie name')\n",
        "  actor = input('Enter the actor name')\n",
        "  actress = input('Enter the actress name')\n",
        "  m= Movie(movie,actor,actress)\n",
        "  movie_list.append(m)\n",
        "  print(\"Movie added sucessfully\")\n",
        "  option = input(\"Do you wanna add more movie [Yes/No]\")\n",
        "  if option.lower() == \"no\":\n",
        "    break\n",
        "\n",
        "print(\"All Movies Information...\")\n",
        "print('#'* 50)\n",
        "for i in movie_list:\n",
        "  i.movie_info()\n",
        "  print()"
      ],
      "metadata": {
        "colab": {
          "base_uri": "https://localhost:8080/"
        },
        "id": "2E-FysrOLCkU",
        "outputId": "085cbd8a-efc2-4bd9-c7f1-b381aa53bb24"
      },
      "execution_count": null,
      "outputs": [
        {
          "name": "stdout",
          "output_type": "stream",
          "text": [
            "Enter the movie namepk\n",
            "Enter the actor nameaamir\n",
            "Enter the actress nameanushka\n",
            "Movie added sucessfully\n",
            "Do you wanna add more movie [Yes/No]yes\n",
            "Enter the movie nameravan\n",
            "Enter the actor namesharukh khan\n",
            "Enter the actress namekareena kapoor\n",
            "Movie added sucessfully\n",
            "Do you wanna add more movie [Yes/No]yes\n",
            "Enter the movie namedhoom\n"
          ]
        }
      ]
    }
  ]
}